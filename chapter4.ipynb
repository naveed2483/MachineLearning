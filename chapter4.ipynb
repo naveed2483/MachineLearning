{
 "cells": [
  {
   "cell_type": "code",
   "execution_count": 2,
   "metadata": {},
   "outputs": [
    {
     "name": "stdout",
     "output_type": "stream",
     "text": [
      "* Pepperoni\n",
      "* Veggie Cheese\n",
      "* Hawaiian Pizza\n",
      "* Margherita Pizza\n",
      "I like to eat Pepperoni\n",
      "I like to eat Veggie Cheese\n",
      "I like to eat Hawaiian Pizza\n",
      "I like to eat Margherita Pizza\n",
      "* Pepperoni\n",
      "* Veggie Cheese\n",
      "* Hawaiian Pizza\n",
      "* Margherita Pizza\n",
      "I really like pizzas!\n"
     ]
    }
   ],
   "source": [
    "#4.1\n",
    "favorite_pizzas = [\"Pepperoni\" , \"veggie cheese\" , \"Hawaiian Pizza\", \"Margherita Pizza\"]\n",
    "for pizza in favorite_pizzas:\n",
    "    print(\"*\", pizza.title())\n",
    "for pizza in favorite_pizzas:\n",
    "    print(\"I like to eat \" + pizza.title())\n",
    "for pizza in favorite_pizzas:\n",
    "    print(\"*\", pizza.title())\n",
    "print(\"I really like pizzas!\")"
   ]
  },
  {
   "cell_type": "code",
   "execution_count": 7,
   "metadata": {},
   "outputs": [
    {
     "name": "stdout",
     "output_type": "stream",
     "text": [
      "[1, 8, 27, 64, 125, 216, 343, 512, 729, 1000]\n"
     ]
    }
   ],
   "source": [
    "#4.9\n",
    "cube = [num**3 for num in range(1,11)]\n",
    "print(cube) "
   ]
  }
 ],
 "metadata": {
  "interpreter": {
   "hash": "fbd8ec306bba22c8cb76bc8c0165755d4bf22ffd0a38790321faf77f69b06fd5"
  },
  "kernelspec": {
   "display_name": "Python 3.10.4 64-bit",
   "language": "python",
   "name": "python3"
  },
  "language_info": {
   "codemirror_mode": {
    "name": "ipython",
    "version": 3
   },
   "file_extension": ".py",
   "mimetype": "text/x-python",
   "name": "python",
   "nbconvert_exporter": "python",
   "pygments_lexer": "ipython3",
   "version": "3.10.4"
  },
  "orig_nbformat": 4
 },
 "nbformat": 4,
 "nbformat_minor": 2
}
