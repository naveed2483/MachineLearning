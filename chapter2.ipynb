{
 "cells": [
  {
   "cell_type": "code",
   "execution_count": 22,
   "metadata": {},
   "outputs": [
    {
     "name": "stdout",
     "output_type": "stream",
     "text": [
      "Learning Python is a enjoyable task!\n"
     ]
    }
   ],
   "source": [
    "#2.1\n",
    "simple_message = \"Learning Python is a enjoyable task!\"\n",
    "print(simple_message)"
   ]
  },
  {
   "cell_type": "code",
   "execution_count": 23,
   "metadata": {},
   "outputs": [
    {
     "name": "stdout",
     "output_type": "stream",
     "text": [
      "Learning Python is a enjoyable task!\n",
      "And I'm enjoying this.\n"
     ]
    }
   ],
   "source": [
    "#2.2\n",
    "simple_message = \"Learning Python is a enjoyable task!\"\n",
    "print(simple_message)\n",
    "\n",
    "simple_message = \"And I'm enjoying this.\"\n",
    "print(simple_message)"
   ]
  },
  {
   "cell_type": "code",
   "execution_count": 37,
   "metadata": {},
   "outputs": [
    {
     "name": "stdout",
     "output_type": "stream",
     "text": [
      "Hello! Sir Hassan, would you teach me Python?\n"
     ]
    }
   ],
   "source": [
    "#2.3\n",
    "Repected_Sir = \"Sir Hassan,\"\n",
    "print(\"Hello! \" + Repected_Sir + \" would you teach me Python?\")"
   ]
  },
  {
   "cell_type": "code",
   "execution_count": 48,
   "metadata": {},
   "outputs": [
    {
     "name": "stdout",
     "output_type": "stream",
     "text": [
      "naved hassain\n",
      "NAVED HASSAIN\n",
      "Naved Hassain\n"
     ]
    }
   ],
   "source": [
    "#2.4\n",
    "Name = \"Naved hassain\"\n",
    "print(Name.lower())\n",
    "print(Name.upper())\n",
    "print(Name.title())"
   ]
  },
  {
   "cell_type": "code",
   "execution_count": 40,
   "metadata": {},
   "outputs": [
    {
     "name": "stdout",
     "output_type": "stream",
     "text": [
      " Napoleon Hill once said, \"If you cannot do great things, do small things in a great way.\"\n"
     ]
    }
   ],
   "source": [
    "#2.5\n",
    "famous_quote = ''' Napoleon Hill once said, \"If you cannot do great things, do small things in a great way.\"'''\n",
    "print(famous_quote)"
   ]
  },
  {
   "cell_type": "code",
   "execution_count": 41,
   "metadata": {},
   "outputs": [
    {
     "name": "stdout",
     "output_type": "stream",
     "text": [
      "Napoleon Hill once said \"If you cannot do great things, do small things in a great way.\"\n"
     ]
    }
   ],
   "source": [
    "#2.6\n",
    "famous_person = \"Napoleon Hill\"\n",
    "famous_quote = '''\"If you cannot do great things, do small things in a great way.\"'''\n",
    "print(famous_person + \" once said \" + famous_quote)"
   ]
  },
  {
   "cell_type": "code",
   "execution_count": 49,
   "metadata": {},
   "outputs": [
    {
     "name": "stdout",
     "output_type": "stream",
     "text": [
      "Naved Hussain\n",
      "\t Naved Hussain\n",
      "Naved Hussain \n",
      "\n",
      "\t Naved Hussain \n",
      "\n",
      "  Naved Hussain  \n",
      "Naved Hussain  \n",
      "  Naved Hussain\n",
      "Naved Hussain\n"
     ]
    }
   ],
   "source": [
    "#2.7\n",
    "name = \"\\t Naved Hussain \\n\"\n",
    "print(name.strip())\n",
    "print(name.rstrip())\n",
    "print(name.lstrip())\n",
    "print(name)\n",
    "name = \"  Naved Hussain  \"\n",
    "print(name)\n",
    "print(name.lstrip())\n",
    "print(name.rstrip())\n",
    "print(name.strip())"
   ]
  },
  {
   "cell_type": "code",
   "execution_count": 44,
   "metadata": {},
   "outputs": [
    {
     "name": "stdout",
     "output_type": "stream",
     "text": [
      "8\n",
      "8\n",
      "8\n",
      "8\n"
     ]
    }
   ],
   "source": [
    "#2.8\n",
    "print(7+1)\n",
    "print(9-1)\n",
    "print(2*4)\n",
    "print(24//3)"
   ]
  },
  {
   "cell_type": "code",
   "execution_count": 50,
   "metadata": {},
   "outputs": [
    {
     "name": "stdout",
     "output_type": "stream",
     "text": [
      "My favorite number is 891\n"
     ]
    }
   ],
   "source": [
    "#2.8\n",
    "\n",
    "favorite_number = 891\n",
    "print(\"My favorite number is \" + str(favorite_number)) "
   ]
  },
  {
   "cell_type": "code",
   "execution_count": 51,
   "metadata": {},
   "outputs": [
    {
     "name": "stdout",
     "output_type": "stream",
     "text": [
      "8\n",
      "8\n",
      "8\n",
      "8\n",
      "My favorite number is 891\n"
     ]
    }
   ],
   "source": [
    "#2.10\n",
    "# Program 01\n",
    "print(7+1)      # addition\n",
    "print(9-1)      # subtraction\n",
    "print(2*4)      # multiplication\n",
    "print(24//3)    # division\n",
    "#Program 02\n",
    "favorite_number = 891\n",
    "print(\"My favorite number is \"  + str(favorite_number))\n",
    "# in the above line I cast an integer into a string"
   ]
  },
  {
   "cell_type": "code",
   "execution_count": 46,
   "metadata": {},
   "outputs": [
    {
     "name": "stdout",
     "output_type": "stream",
     "text": [
      "The Zen of Python, by Tim Peters\n",
      "\n",
      "Beautiful is better than ugly.\n",
      "Explicit is better than implicit.\n",
      "Simple is better than complex.\n",
      "Complex is better than complicated.\n",
      "Flat is better than nested.\n",
      "Sparse is better than dense.\n",
      "Readability counts.\n",
      "Special cases aren't special enough to break the rules.\n",
      "Although practicality beats purity.\n",
      "Errors should never pass silently.\n",
      "Unless explicitly silenced.\n",
      "In the face of ambiguity, refuse the temptation to guess.\n",
      "There should be one-- and preferably only one --obvious way to do it.\n",
      "Although that way may not be obvious at first unless you're Dutch.\n",
      "Now is better than never.\n",
      "Although never is often better than *right* now.\n",
      "If the implementation is hard to explain, it's a bad idea.\n",
      "If the implementation is easy to explain, it may be a good idea.\n",
      "Namespaces are one honking great idea -- let's do more of those!\n"
     ]
    }
   ],
   "source": [
    "#2.11\n",
    "import this"
   ]
  }
 ],
 "metadata": {
  "interpreter": {
   "hash": "fbd8ec306bba22c8cb76bc8c0165755d4bf22ffd0a38790321faf77f69b06fd5"
  },
  "kernelspec": {
   "display_name": "Python 3.10.4 64-bit",
   "language": "python",
   "name": "python3"
  },
  "language_info": {
   "codemirror_mode": {
    "name": "ipython",
    "version": 3
   },
   "file_extension": ".py",
   "mimetype": "text/x-python",
   "name": "python",
   "nbconvert_exporter": "python",
   "pygments_lexer": "ipython3",
   "version": "3.10.4"
  },
  "orig_nbformat": 4
 },
 "nbformat": 4,
 "nbformat_minor": 2
}
