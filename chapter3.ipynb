{
 "cells": [
  {
   "cell_type": "code",
   "execution_count": 6,
   "metadata": {},
   "outputs": [
    {
     "name": "stdout",
     "output_type": "stream",
     "text": [
      "Hammad\n",
      "Anwar\n",
      "Osman\n",
      "Ahmad\n"
     ]
    }
   ],
   "source": [
    "#3.1\n",
    "names = ['Hammad', 'Anwar', 'Osman', 'Ahmad']\n",
    "print(names[0])\n",
    "print(names[1])\n",
    "print(names[2])\n",
    "print(names[3])"
   ]
  },
  {
   "cell_type": "code",
   "execution_count": 7,
   "metadata": {},
   "outputs": [
    {
     "name": "stdout",
     "output_type": "stream",
     "text": [
      "What do you do?  Hammad\n",
      "What do you do?  Anwar\n",
      "What do you do?  Osman\n",
      "What do you do?  Ahmad\n"
     ]
    }
   ],
   "source": [
    "#3.2\n",
    "names = ['Hammad', 'Anwar', 'Osman', 'Ahmad',]\n",
    "message = (\"What do you do? \")\n",
    "print(message, names[0])\n",
    "print(message, names[1])\n",
    "print(message, names[2])\n",
    "print(message, names[3])"
   ]
  },
  {
   "cell_type": "code",
   "execution_count": 8,
   "metadata": {},
   "outputs": [
    {
     "name": "stdout",
     "output_type": "stream",
     "text": [
      "Trek was my dream.\n",
      "Motorcycle is a need of the time.\n",
      "Lamborghini is my dream.\n"
     ]
    }
   ],
   "source": [
    "#3.3\n",
    "favorite_transport = ['Trek', 'Motorcycle', 'Lamborghini']\n",
    "print(favorite_transport[0] , \"was my dream.\")\n",
    "print(favorite_transport[1] , \"is a need of the time.\")\n",
    "print(favorite_transport[2] , \"is my dream.\")"
   ]
  },
  {
   "cell_type": "code",
   "execution_count": 5,
   "metadata": {},
   "outputs": [
    {
     "name": "stdout",
     "output_type": "stream",
     "text": [
      " Mr. Hammad \n",
      " Hello! \n",
      " Please join me at party on Saturday night. \n",
      "\n",
      " Mr. Anwar \n",
      " Hello! \n",
      " Please join me at party on Saturday night. \n",
      "\n",
      " Mr. Osman \n",
      " Hello! \n",
      " Please join me at party on Saturday night. \n",
      "\n",
      " Mr. Ahmad \n",
      " Hello! \n",
      " Please join me at party on Saturday night. \n",
      "\n"
     ]
    }
   ],
   "source": [
    "#3.4\n",
    "guest_list = ['Hammad', 'Anwar', 'Osman', 'Ahmad']\n",
    "greetings = \"Hello!\"\n",
    "message = \"Please join me at party on Saturday night.\"\n",
    "print(\" Mr.\" , guest_list[0] ,\"\\n\" , greetings , \"\\n\" , message , \"\\n\")\n",
    "print(\" Mr.\" , guest_list[1] ,\"\\n\" , greetings , \"\\n\" , message , \"\\n\")\n",
    "print(\" Mr.\" , guest_list[2] ,\"\\n\" , greetings , \"\\n\" , message , \"\\n\")\n",
    "print(\" Mr.\" , guest_list[3] ,\"\\n\" , greetings , \"\\n\" , message , \"\\n\")"
   ]
  },
  {
   "cell_type": "code",
   "execution_count": 6,
   "metadata": {},
   "outputs": [
    {
     "name": "stdout",
     "output_type": "stream",
     "text": [
      "Anwar is not coming.\n",
      "['Hammad', 'Osman', 'Ahmad']\n",
      "Add Ali in place of Anwar.\n",
      "['Hammad', 'Ali', 'Osman', 'Ahmad']\n",
      "\n",
      " Mr. Hammad \n",
      " Hello! \n",
      " Please join me at party on Saturday night.\n",
      "\n",
      " Mr. Ali \n",
      " Hello! \n",
      " Please join me at party on Saturday night.\n",
      "\n",
      " Mr. Osman \n",
      " Hello! \n",
      " Please join me at party on Saturday night.\n",
      "\n",
      " Mr. Ahmad \n",
      " Hello! \n",
      " Please join me at party on Saturday night.\n"
     ]
    }
   ],
   "source": [
    "#3.5\n",
    "guest_list = ['Hammad', 'Anwar', 'Osman', 'Ahmad']\n",
    "greetings = \"Hello!\"\n",
    "message = \"Please join me at party on Saturday night.\"\n",
    "print(\"Anwar is not coming.\")\n",
    "del guest_list [1]\n",
    "print(guest_list)\n",
    "print(\"Add Ali in place of Anwar.\")\n",
    "guest_list.insert(1,\"Ali\")\n",
    "print(guest_list)\n",
    "print(\"\\n Mr.\" , guest_list[0] ,\"\\n\" , greetings , \"\\n\" , message)\n",
    "print(\"\\n Mr.\" , guest_list[1] ,\"\\n\" , greetings , \"\\n\" , message)\n",
    "print(\"\\n Mr.\" , guest_list[2] ,\"\\n\" , greetings , \"\\n\" , message)\n",
    "print(\"\\n Mr.\" , guest_list[3] ,\"\\n\" , greetings , \"\\n\" , message)"
   ]
  },
  {
   "cell_type": "code",
   "execution_count": 17,
   "metadata": {},
   "outputs": [
    {
     "name": "stdout",
     "output_type": "stream",
     "text": [
      "Hi friends, I found a bigger party hall.\n",
      "\n",
      "['Imran', 'Mushtaq', 'Hammad', 'Anwar', 'Osman', 'Ahmad', 'Unknown']\n",
      "\n",
      " Mr. Imran \n",
      " Hello! \n",
      " Please join me at party on Saturday night.\n",
      "\n",
      " Mr. Mushtaq \n",
      " Hello! \n",
      " Please join me at party on Saturday night.\n",
      "\n",
      " Mr. Hammad \n",
      " Hello! \n",
      " Please join me at party on Saturday night.\n",
      "\n",
      " Mr. Anwar \n",
      " Hello! \n",
      " Please join me at party on Saturday night.\n",
      "\n",
      " Mr. Osman \n",
      " Hello! \n",
      " Please join me at party on Saturday night.\n",
      "\n",
      " Mr. Ahmad \n",
      " Hello! \n",
      " Please join me at party on Saturday night.\n"
     ]
    }
   ],
   "source": [
    "#3.6\n",
    "guest_list = ['Hammad', 'Anwar', 'Osman', 'Ahmad']\n",
    "greetings = \"Hello!\"\n",
    "message = \"Please join me at party on Saturday night.\"\n",
    "print(\"Hi friends, I found a bigger party hall.\\n\")\n",
    "guest_list.insert(0,\"Imran\")\n",
    "guest_list.insert(1,\"Mushtaq\")\n",
    "guest_list.append(\"Unknown\")\n",
    "print(guest_list)\n",
    "print(\"\\n Mr.\" , guest_list[0] ,\"\\n\" , greetings , \"\\n\" , message)\n",
    "print(\"\\n Mr.\" , guest_list[1] ,\"\\n\" , greetings , \"\\n\" , message)\n",
    "print(\"\\n Mr.\" , guest_list[2] ,\"\\n\" , greetings , \"\\n\" , message)\n",
    "print(\"\\n Mr.\" , guest_list[3] ,\"\\n\" , greetings , \"\\n\" , message)\n",
    "print(\"\\n Mr.\" , guest_list[4] ,\"\\n\" , greetings , \"\\n\" , message)\n",
    "print(\"\\n Mr.\" , guest_list[5] ,\"\\n\" , greetings , \"\\n\" , message)\n"
   ]
  },
  {
   "cell_type": "code",
   "execution_count": 37,
   "metadata": {},
   "outputs": [
    {
     "name": "stdout",
     "output_type": "stream",
     "text": [
      "I can invite only two people for dinner.\n",
      "I'm sorry Mr. Hammad,  Sorry! I could not invite you at dinner.\n",
      "I'm sorry Mr. Anwar, Sorry! I could not invite you at dinner.\n",
      "Mr. Osman You are still invited.\n",
      "Mr. Ahmad You are still invited.\n",
      "[]\n"
     ]
    }
   ],
   "source": [
    "#3.7\n",
    "\n",
    "guest_list = ['Hammad', 'Anwar', 'Osman', 'Ahmad' ]\n",
    "greetings = \"Hello!\"\n",
    "message = \"Please join me at party on Saturday night.\"\n",
    "print(\"I can invite only two people for dinner.\")\n",
    "popped0 = guest_list.pop(0)\n",
    "popped1 = guest_list.pop(0)\n",
    "print(\"I'm sorry Mr.\", popped0 + \",\" , \" Sorry! I could not invite you at dinner.\")\n",
    "print(\"I'm sorry Mr.\", popped1 + \",\" , \"Sorry! I could not invite you at dinner.\")\n",
    "print(\"Mr.\" , guest_list[0] , \"You are still invited.\")\n",
    "print(\"Mr.\" , guest_list[1] , \"You are still invited.\")\n",
    "del guest_list [0]\n",
    "del guest_list [-1]\n",
    "print(guest_list)"
   ]
  },
  {
   "cell_type": "code",
   "execution_count": 28,
   "metadata": {},
   "outputs": [
    {
     "name": "stdout",
     "output_type": "stream",
     "text": [
      "['Murree', 'Swat', 'Gwadar', 'Islamabad', 'Skardu']\n",
      "\n",
      "\n",
      "['Gwadar', 'Islamabad', 'Murree', 'Skardu', 'Swat']\n",
      "['Murree', 'Swat', 'Gwadar', 'Islamabad', 'Skardu']\n",
      "['Swat', 'Skardu', 'Murree', 'Islamabad', 'Gwadar']\n",
      "['Murree', 'Swat', 'Gwadar', 'Islamabad', 'Skardu']\n",
      "\n",
      "\n",
      "['Skardu', 'Islamabad', 'Gwadar', 'Swat', 'Murree']\n",
      "['Murree', 'Swat', 'Gwadar', 'Islamabad', 'Skardu']\n",
      "\n",
      "\n",
      "['Gwadar', 'Islamabad', 'Murree', 'Skardu', 'Swat']\n",
      "['Swat', 'Skardu', 'Murree', 'Islamabad', 'Gwadar']\n"
     ]
    }
   ],
   "source": [
    "#3.8\n",
    "places = ['Murree', 'Swat', 'Gwadar', 'Islamabad', 'Skardu']\n",
    "print(places)\n",
    "print(\"\\n\")\n",
    "print(sorted(places))\n",
    "print(places)\n",
    "print(sorted(places, reverse = True))\n",
    "print(places)\n",
    "print(\"\\n\")\n",
    "places.reverse()\n",
    "print(places)\n",
    "places.reverse()\n",
    "print(places)\n",
    "print(\"\\n\")\n",
    "places.sort()\n",
    "print(places)\n",
    "places.sort(reverse=True)\n",
    "print(places)"
   ]
  },
  {
   "cell_type": "code",
   "execution_count": 30,
   "metadata": {},
   "outputs": [
    {
     "name": "stdout",
     "output_type": "stream",
     "text": [
      "The no of people I invited to party = 4\n"
     ]
    }
   ],
   "source": [
    "#3.9\n",
    "guest_list = ['Hammad', 'Anwar', 'Osman', 'Ahmad']\n",
    "print(\"The no of people I invited to party =\" , len(guest_list))"
   ]
  }
 ],
 "metadata": {
  "interpreter": {
   "hash": "fbd8ec306bba22c8cb76bc8c0165755d4bf22ffd0a38790321faf77f69b06fd5"
  },
  "kernelspec": {
   "display_name": "Python 3.10.4 64-bit",
   "language": "python",
   "name": "python3"
  },
  "language_info": {
   "codemirror_mode": {
    "name": "ipython",
    "version": 3
   },
   "file_extension": ".py",
   "mimetype": "text/x-python",
   "name": "python",
   "nbconvert_exporter": "python",
   "pygments_lexer": "ipython3",
   "version": "3.10.4"
  },
  "orig_nbformat": 4
 },
 "nbformat": 4,
 "nbformat_minor": 2
}
